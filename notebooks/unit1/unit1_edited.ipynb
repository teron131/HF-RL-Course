{
  "cells": [
    {
      "cell_type": "markdown",
      "metadata": {
        "colab_type": "text",
        "id": "view-in-github"
      },
      "source": [
        "<a href=\"https://colab.research.google.com/github/teron131/HF-DL-Course/blob/main/notebooks/unit1/unit1.ipynb\" target=\"_parent\"><img src=\"https://colab.research.google.com/assets/colab-badge.svg\" alt=\"Open In Colab\"/></a>\n"
      ]
    },
    {
      "cell_type": "markdown",
      "metadata": {
        "id": "njb_ProuHiOe"
      },
      "source": [
        "# Unit 1: Train your first Deep Reinforcement Learning Agent 🤖\n",
        "\n",
        "![Cover](https://huggingface.co/datasets/huggingface-deep-rl-course/course-images/resolve/main/en/unit1/thumbnail.jpg)\n",
        "\n",
        "In this notebook, you'll train your **first Deep Reinforcement Learning agent** a Lunar Lander agent that will learn to **land correctly on the Moon 🌕**. Using [Stable-Baselines3](https://stable-baselines3.readthedocs.io/en/master/) a Deep Reinforcement Learning library, share them with the community, and experiment with different configurations\n",
        "\n",
        "⬇️ Here is an example of what **you will achieve in just a couple of minutes.** ⬇️\n"
      ]
    },
    {
      "cell_type": "code",
      "execution_count": null,
      "metadata": {
        "id": "PF46MwbZD00b"
      },
      "outputs": [],
      "source": [
        "%%html\n",
        "<video controls autoplay><source src=\"https://huggingface.co/sb3/ppo-LunarLander-v2/resolve/main/replay.mp4\" type=\"video/mp4\"></video>"
      ]
    },
    {
      "cell_type": "markdown",
      "metadata": {
        "id": "x7oR6R-ZIbeS"
      },
      "source": [
        "### The environment 🎮\n",
        "\n",
        "- [LunarLander-v2](https://gymnasium.farama.org/environments/box2d/lunar_lander/)\n",
        "\n",
        "### The library used 📚\n",
        "\n",
        "- [Stable-Baselines3](https://stable-baselines3.readthedocs.io/en/master/)\n"
      ]
    },
    {
      "cell_type": "markdown",
      "metadata": {
        "id": "OwEcFHe9RRZW"
      },
      "source": [
        "We're constantly trying to improve our tutorials, so **if you find some issues in this notebook**, please [open an issue on the Github Repo](https://github.com/huggingface/deep-rl-class/issues).\n"
      ]
    },
    {
      "cell_type": "markdown",
      "metadata": {
        "id": "4i6tjI2tHQ8j"
      },
      "source": [
        "## Objectives of this notebook 🏆\n",
        "\n",
        "At the end of the notebook, you will:\n",
        "\n",
        "- Be able to use **Gymnasium**, the environment library.\n",
        "- Be able to use **Stable-Baselines3**, the deep reinforcement learning library.\n",
        "- Be able to **push your trained agent to the Hub** with a nice video replay and an evaluation score 🔥.\n"
      ]
    },
    {
      "cell_type": "markdown",
      "metadata": {
        "id": "Ff-nyJdzJPND"
      },
      "source": [
        "## This notebook is from Deep Reinforcement Learning Course\n",
        "\n",
        "<img src=\"https://huggingface.co/datasets/huggingface-deep-rl-course/course-images/resolve/main/en/notebooks/deep-rl-course-illustration.jpg\" alt=\"Deep RL Course illustration\"/>\n"
      ]
    },
    {
      "cell_type": "markdown",
      "metadata": {
        "id": "6p5HnEefISCB"
      },
      "source": [
        "In this free course, you will:\n",
        "\n",
        "- 📖 Study Deep Reinforcement Learning in **theory and practice**.\n",
        "- 🧑‍💻 Learn to **use famous Deep RL libraries** such as Stable Baselines3, RL Baselines3 Zoo, CleanRL and Sample Factory 2.0.\n",
        "- 🤖 Train **agents in unique environments**\n",
        "- 🎓 **Earn a certificate of completion** by completing 80% of the assignments.\n",
        "\n",
        "And more!\n",
        "\n",
        "Check 📚 the syllabus 👉 https://simoninithomas.github.io/deep-rl-course\n",
        "\n",
        "Don’t forget to **<a href=\"http://eepurl.com/ic5ZUD\">sign up to the course</a>** (we are collecting your email to be able to **send you the links when each Unit is published and give you information about the challenges and updates).**\n",
        "\n",
        "The best way to keep in touch and ask questions is **to join our discord server** to exchange with the community and with us 👉🏻 https://discord.gg/ydHrjt3WP5\n"
      ]
    },
    {
      "cell_type": "markdown",
      "metadata": {
        "id": "Y-mo_6rXIjRi"
      },
      "source": [
        "## Prerequisites 🏗️\n",
        "\n",
        "Before diving into the notebook, you need to:\n",
        "\n",
        "🔲 📝 **[Read Unit 0](https://huggingface.co/deep-rl-course/unit0/introduction)** that gives you all the **information about the course and helps you to onboard** 🤗\n",
        "\n",
        "🔲 📚 **Develop an understanding of the foundations of Reinforcement learning** (RL process, Rewards hypothesis...) by [reading Unit 1](https://huggingface.co/deep-rl-course/unit1/introduction).\n"
      ]
    },
    {
      "cell_type": "markdown",
      "metadata": {
        "id": "HoeqMnr5LuYE"
      },
      "source": [
        "## A small recap of Deep Reinforcement Learning 📚\n",
        "\n",
        "<img src=\"https://huggingface.co/datasets/huggingface-deep-rl-course/course-images/resolve/main/en/unit1/RL_process_game.jpg\" alt=\"The RL process\" width=\"100%\">\n"
      ]
    },
    {
      "cell_type": "markdown",
      "metadata": {
        "id": "xcQYx9ynaFMD"
      },
      "source": [
        "Let's do a small recap on what we learned in the first Unit:\n",
        "\n",
        "- Reinforcement Learning is a **computational approach to learning from actions**. We build an agent that learns from the environment by **interacting with it through trial and error** and receiving rewards (negative or positive) as feedback.\n",
        "\n",
        "- The goal of any RL agent is to **maximize its expected cumulative reward** (also called expected return) because RL is based on the _reward hypothesis_, which is that all goals can be described as the maximization of an expected cumulative reward.\n",
        "\n",
        "- The RL process is a **loop that outputs a sequence of state, action, reward, and next state**.\n",
        "\n",
        "- To calculate the expected cumulative reward (expected return), **we discount the rewards**: the rewards that come sooner (at the beginning of the game) are more probable to happen since they are more predictable than the long-term future reward.\n",
        "\n",
        "- To solve an RL problem, you want to **find an optimal policy**; the policy is the \"brain\" of your AI that will tell us what action to take given a state. The optimal one is the one that gives you the actions that max the expected return.\n",
        "\n",
        "There are **two** ways to find your optimal policy:\n",
        "\n",
        "- By **training your policy directly**: policy-based methods.\n",
        "- By **training a value function** that tells us the expected return the agent will get at each state and use this function to define our policy: value-based methods.\n",
        "\n",
        "- Finally, we spoke about Deep RL because **we introduce deep neural networks to estimate the action to take (policy-based) or to estimate the value of a state (value-based) hence the name \"deep.\"**\n"
      ]
    },
    {
      "cell_type": "markdown",
      "metadata": {
        "id": "qDploC3jSH99"
      },
      "source": [
        "# Let's train our first Deep Reinforcement Learning agent and upload it to the Hub 🚀\n",
        "\n",
        "## Get a certificate 🎓\n",
        "\n",
        "To validate this hands-on for the [certification process](https://huggingface.co/deep-rl-course/en/unit0/introduction#certification-process), you need to push your trained model to the Hub and **get a result of >= 200**.\n",
        "\n",
        "To find your result, go to the [leaderboard](https://huggingface.co/spaces/huggingface-projects/Deep-Reinforcement-Learning-Leaderboard) and find your model, **the result = mean_reward - std of reward**\n",
        "\n",
        "For more information about the certification process, check this section 👉 https://huggingface.co/deep-rl-course/en/unit0/introduction#certification-process\n"
      ]
    },
    {
      "cell_type": "markdown",
      "metadata": {
        "id": "HqzznTzhNfAC"
      },
      "source": [
        "## Set the GPU 💪\n",
        "\n",
        "- To **accelerate the agent's training, we'll use a GPU**. To do that, go to `Runtime > Change Runtime type`\n",
        "\n",
        "<img src=\"https://huggingface.co/datasets/huggingface-deep-rl-course/course-images/resolve/main/en/notebooks/gpu-step1.jpg\" alt=\"GPU Step 1\">\n"
      ]
    },
    {
      "cell_type": "markdown",
      "metadata": {
        "id": "38HBd3t1SHJ8"
      },
      "source": [
        "- `Hardware Accelerator > GPU`\n",
        "\n",
        "<img src=\"https://huggingface.co/datasets/huggingface-deep-rl-course/course-images/resolve/main/en/notebooks/gpu-step2.jpg\" alt=\"GPU Step 2\">\n"
      ]
    },
    {
      "cell_type": "markdown",
      "metadata": {
        "id": "jeDAH0h0EBiG"
      },
      "source": [
        "## Install dependencies and create a virtual screen 🔽\n",
        "\n",
        "The first step is to install the dependencies, we’ll install multiple ones.\n",
        "\n",
        "- `gymnasium[box2d]`: Contains the LunarLander-v2 environment 🌛\n",
        "- `stable-baselines3[extra]`: The deep reinforcement learning library.\n",
        "- `huggingface_sb3`: Additional code for Stable-baselines3 to load and upload models from the Hugging Face 🤗 Hub.\n",
        "\n",
        "To make things easier, we created a script to install all these dependencies.\n"
      ]
    },
    {
      "cell_type": "code",
      "execution_count": null,
      "metadata": {
        "id": "yQIGLPDkGhgG"
      },
      "outputs": [],
      "source": [
        "!apt install swig cmake"
      ]
    },
    {
      "cell_type": "code",
      "execution_count": null,
      "metadata": {
        "id": "9XaULfDZDvrC"
      },
      "outputs": [],
      "source": [
        "!pip install -r https://raw.githubusercontent.com/huggingface/deep-rl-class/main/notebooks/unit1/requirements-unit1.txt"
      ]
    },
    {
      "cell_type": "markdown",
      "metadata": {
        "id": "BEKeXQJsQCYm"
      },
      "source": [
        "During the notebook, we'll need to generate a replay video. To do so, with colab, **we need to have a virtual screen to be able to render the environment** (and thus record the frames).\n",
        "\n",
        "Hence the following cell will install virtual screen libraries and create and run a virtual screen 🖥\n"
      ]
    },
    {
      "cell_type": "code",
      "execution_count": null,
      "metadata": {
        "id": "j5f2cGkdP-mb"
      },
      "outputs": [],
      "source": [
        "!sudo apt-get update\n",
        "!sudo apt-get install -y python3-opengl\n",
        "!sudo apt install ffmpeg\n",
        "!sudo apt install xvfb\n",
        "!pip3 install pyvirtualdisplay moviepy"
      ]
    },
    {
      "cell_type": "markdown",
      "metadata": {
        "id": "TCwBTAwAW9JJ"
      },
      "source": [
        "To make sure the new installed libraries are used, **sometimes it's required to restart the notebook runtime**. The next cell will force the **runtime to crash, so you'll need to connect again and run the code starting from here**. Thanks to this trick, **we will be able to run our virtual screen.**\n"
      ]
    },
    {
      "cell_type": "code",
      "execution_count": null,
      "metadata": {
        "id": "cYvkbef7XEMi"
      },
      "outputs": [
        {
          "ename": "",
          "evalue": "",
          "output_type": "error",
          "traceback": [
            "\u001b[1;31mThe Kernel crashed while executing code in the current cell or a previous cell. \n",
            "\u001b[1;31mPlease review the code in the cell(s) to identify a possible cause of the failure. \n",
            "\u001b[1;31mClick <a href='https://aka.ms/vscodeJupyterKernelCrash'>here</a> for more info. \n",
            "\u001b[1;31mView Jupyter <a href='command:jupyter.viewOutput'>log</a> for further details."
          ]
        }
      ],
      "source": [
        "import os\n",
        "\n",
        "os.kill(os.getpid(), 9)"
      ]
    },
    {
      "cell_type": "code",
      "execution_count": 1,
      "metadata": {
        "id": "BE5JWP5rQIKf"
      },
      "outputs": [
        {
          "data": {
            "text/plain": [
              "<pyvirtualdisplay.display.Display at 0x7fb966c080e0>"
            ]
          },
          "execution_count": 1,
          "metadata": {},
          "output_type": "execute_result"
        }
      ],
      "source": [
        "# Virtual display\n",
        "from pyvirtualdisplay import Display\n",
        "\n",
        "virtual_display = Display(visible=0, size=(1400, 900))\n",
        "virtual_display.start()"
      ]
    },
    {
      "cell_type": "markdown",
      "metadata": {
        "id": "wrgpVFqyENVf"
      },
      "source": [
        "## Import the packages 📦\n",
        "\n",
        "One additional library we import is huggingface_hub **to be able to upload and download trained models from the hub**.\n",
        "\n",
        "The Hugging Face Hub 🤗 works as a central place where anyone can share and explore models and datasets. It has versioning, metrics, visualizations and other features that will allow you to easily collaborate with others.\n",
        "\n",
        "You can see here all the Deep reinforcement Learning models available here👉 https://huggingface.co/models?pipeline_tag=reinforcement-learning&sort=downloads\n"
      ]
    },
    {
      "cell_type": "code",
      "execution_count": 1,
      "metadata": {
        "id": "cygWLPGsEQ0m"
      },
      "outputs": [],
      "source": [
        "import gymnasium as gym\n",
        "\n",
        "from huggingface_sb3 import load_from_hub, package_to_hub\n",
        "from huggingface_hub import notebook_login  # To log to our Hugging Face account to be able to upload models to the Hub.\n",
        "\n",
        "from stable_baselines3 import PPO\n",
        "from stable_baselines3.common.env_util import make_vec_env\n",
        "from stable_baselines3.common.evaluation import evaluate_policy\n",
        "from stable_baselines3.common.monitor import Monitor"
      ]
    },
    {
      "cell_type": "markdown",
      "metadata": {
        "id": "MRqRuRUl8CsB"
      },
      "source": [
        "## Understand Gymnasium and how it works 🤖\n",
        "\n",
        "🏋 The library containing our environment is called Gymnasium.\n",
        "**You'll use Gymnasium a lot in Deep Reinforcement Learning.**\n",
        "\n",
        "Gymnasium is the **new version of Gym library** [maintained by the Farama Foundation](https://farama.org/).\n",
        "\n",
        "The Gymnasium library provides two things:\n",
        "\n",
        "- An interface that allows you to **create RL environments**.\n",
        "- A **collection of environments** (gym-control, atari, box2D...).\n",
        "\n",
        "Let's look at an example, but first let's recall the RL loop.\n",
        "\n",
        "<img src=\"https://huggingface.co/datasets/huggingface-deep-rl-course/course-images/resolve/main/en/unit1/RL_process_game.jpg\" alt=\"The RL process\" width=\"100%\">\n"
      ]
    },
    {
      "cell_type": "markdown",
      "metadata": {
        "id": "-TzNN0bQ_j-3"
      },
      "source": [
        "At each step:\n",
        "\n",
        "- Our Agent receives a **state (S0)** from the **Environment** — we receive the first frame of our game (Environment).\n",
        "- Based on that **state (S0),** the Agent takes an **action (A0)** — our Agent will move to the right.\n",
        "- The environment transitions to a **new** **state (S1)** — new frame.\n",
        "- The environment gives some **reward (R1)** to the Agent — we’re not dead *(Positive Reward +1)*.\n",
        "\n",
        "With Gymnasium:\n",
        "\n",
        "1️⃣ We create our environment using `gymnasium.make()`\n",
        "\n",
        "2️⃣ We reset the environment to its initial state with `observation = env.reset()`\n",
        "\n",
        "At each step:\n",
        "\n",
        "3️⃣ Get an action using our model (in our example we take a random action)\n",
        "\n",
        "4️⃣ Using `env.step(action)`, we perform this action in the environment and get\n",
        "\n",
        "- `observation`: The new state (st+1)\n",
        "- `reward`: The reward we get after executing the action\n",
        "- `terminated`: Indicates if the episode terminated (agent reach the terminal state)\n",
        "- `truncated`: Introduced with this new version, it indicates a timelimit or if an agent go out of bounds of the environment for instance.\n",
        "- `info`: A dictionary that provides additional information (depends on the environment).\n",
        "\n",
        "For more explanations check this 👉 https://gymnasium.farama.org/api/env/#gymnasium.Env.step\n",
        "\n",
        "If the episode is terminated:\n",
        "\n",
        "- We reset the environment to its initial state with `observation = env.reset()`\n",
        "\n",
        "**Let's look at an example!** Make sure to read the code\n"
      ]
    },
    {
      "cell_type": "code",
      "execution_count": 3,
      "metadata": {
        "id": "w7vOFlpA_ONz"
      },
      "outputs": [
        {
          "name": "stdout",
          "output_type": "stream",
          "text": [
            "Action taken: 2\n",
            "Action taken: 3\n",
            "Action taken: 2\n",
            "Action taken: 3\n",
            "Action taken: 1\n",
            "Action taken: 1\n",
            "Action taken: 0\n",
            "Action taken: 1\n",
            "Action taken: 1\n",
            "Action taken: 1\n",
            "Action taken: 0\n",
            "Action taken: 3\n",
            "Action taken: 1\n",
            "Action taken: 1\n",
            "Action taken: 0\n",
            "Action taken: 2\n",
            "Action taken: 0\n",
            "Action taken: 1\n",
            "Action taken: 0\n",
            "Action taken: 1\n"
          ]
        }
      ],
      "source": [
        "import gymnasium as gym\n",
        "\n",
        "# First, we create our environment called LunarLander-v2\n",
        "env = gym.make(\"LunarLander-v2\")\n",
        "\n",
        "# Then we reset this environment\n",
        "observation, info = env.reset()\n",
        "\n",
        "for _ in range(20):\n",
        "    # Take a random action\n",
        "    action = env.action_space.sample()\n",
        "    print(\"Action taken:\", action)\n",
        "\n",
        "    # Do this action in the environment and get\n",
        "    # next_state, reward, terminated, truncated and info\n",
        "    observation, reward, terminated, truncated, info = env.step(action)\n",
        "\n",
        "    # If the game is terminated (in our case we land, crashed) or truncated (timeout)\n",
        "    if terminated or truncated:\n",
        "        # Reset the environment\n",
        "        print(\"Environment is reset\")\n",
        "        observation, info = env.reset()\n",
        "\n",
        "env.close()"
      ]
    },
    {
      "cell_type": "markdown",
      "metadata": {
        "id": "XIrKGGSlENZB"
      },
      "source": [
        "## Create the LunarLander environment 🌛 and understand how it works\n",
        "\n",
        "### [The environment 🎮](https://gymnasium.farama.org/environments/box2d/lunar_lander/)\n",
        "\n",
        "In this first tutorial, we’re going to train our agent, a [Lunar Lander](https://gymnasium.farama.org/environments/box2d/lunar_lander/), **to land correctly on the moon**. To do that, the agent needs to learn **to adapt its speed and position (horizontal, vertical, and angular) to land correctly.**\n",
        "\n",
        "---\n",
        "\n",
        "💡 A good habit when you start to use an environment is to check its documentation\n",
        "\n",
        "👉 https://gymnasium.farama.org/environments/box2d/lunar_lander/\n",
        "\n",
        "---\n"
      ]
    },
    {
      "cell_type": "markdown",
      "metadata": {
        "id": "poLBgRocF9aT"
      },
      "source": [
        "Let's see what the Environment looks like:\n"
      ]
    },
    {
      "cell_type": "code",
      "execution_count": 4,
      "metadata": {
        "id": "ZNPG0g_UGCfh"
      },
      "outputs": [
        {
          "name": "stdout",
          "output_type": "stream",
          "text": [
            "_____OBSERVATION SPACE_____ \n",
            "\n",
            "Observation Space Shape (8,)\n",
            "Sample observation [-13.755495    34.85306     -4.908766    -3.9767818    2.2402267\n",
            "  -3.5305078    0.3155609    0.76354104]\n"
          ]
        }
      ],
      "source": [
        "# We create our environment with gym.make(\"<name_of_the_environment>\")\n",
        "env = gym.make(\"LunarLander-v2\")\n",
        "env.reset()\n",
        "print(\"_____OBSERVATION SPACE_____ \\n\")\n",
        "print(\"Observation Space Shape\", env.observation_space.shape)\n",
        "print(\"Sample observation\", env.observation_space.sample())  # Get a random observation"
      ]
    },
    {
      "cell_type": "markdown",
      "metadata": {
        "id": "2MXc15qFE0M9"
      },
      "source": [
        "We see with `Observation Space Shape (8,)` that the observation is a vector of size 8, where each value contains different information about the lander:\n",
        "\n",
        "- Horizontal pad coordinate (x)\n",
        "- Vertical pad coordinate (y)\n",
        "- Horizontal speed (x)\n",
        "- Vertical speed (y)\n",
        "- Angle\n",
        "- Angular speed\n",
        "- If the left leg contact point has touched the land (boolean)\n",
        "- If the right leg contact point has touched the land (boolean)\n"
      ]
    },
    {
      "cell_type": "code",
      "execution_count": 5,
      "metadata": {
        "id": "We5WqOBGLoSm"
      },
      "outputs": [
        {
          "name": "stdout",
          "output_type": "stream",
          "text": [
            "\n",
            " _____ACTION SPACE_____ \n",
            "\n",
            "Action Space Shape 4\n",
            "Action Space Sample 1\n"
          ]
        }
      ],
      "source": [
        "print(\"\\n _____ACTION SPACE_____ \\n\")\n",
        "print(\"Action Space Shape\", env.action_space.n)\n",
        "print(\"Action Space Sample\", env.action_space.sample())  # Take a random action"
      ]
    },
    {
      "cell_type": "markdown",
      "metadata": {
        "id": "MyxXwkI2Magx"
      },
      "source": [
        "The action space (the set of possible actions the agent can take) is discrete with 4 actions available 🎮:\n",
        "\n",
        "- Action 0: Do nothing,\n",
        "- Action 1: Fire left orientation engine,\n",
        "- Action 2: Fire the main engine,\n",
        "- Action 3: Fire right orientation engine.\n",
        "\n",
        "Reward function (the function that will give a reward at each timestep) 💰:\n",
        "\n",
        "After every step a reward is granted. The total reward of an episode is the **sum of the rewards for all the steps within that episode**.\n",
        "\n",
        "For each step, the reward:\n",
        "\n",
        "- Is increased/decreased the closer/further the lander is to the landing pad.\n",
        "- Is increased/decreased the slower/faster the lander is moving.\n",
        "- Is decreased the more the lander is tilted (angle not horizontal).\n",
        "- Is increased by 10 points for each leg that is in contact with the ground.\n",
        "- Is decreased by 0.03 points each frame a side engine is firing.\n",
        "- Is decreased by 0.3 points each frame the main engine is firing.\n",
        "\n",
        "The episode receive an **additional reward of -100 or +100 points for crashing or landing safely respectively.**\n",
        "\n",
        "An episode is **considered a solution if it scores at least 200 points.**\n"
      ]
    },
    {
      "cell_type": "markdown",
      "metadata": {
        "id": "dFD9RAFjG8aq"
      },
      "source": [
        "#### Vectorized Environment\n",
        "\n",
        "- We create a vectorized environment (a method for stacking multiple independent environments into a single environment) of 16 environments, this way, **we'll have more diverse experiences during the training.**\n"
      ]
    },
    {
      "cell_type": "code",
      "execution_count": 6,
      "metadata": {
        "id": "99hqQ_etEy1N"
      },
      "outputs": [],
      "source": [
        "# Create the environment\n",
        "env = make_vec_env(\"LunarLander-v2\", n_envs=16)"
      ]
    },
    {
      "cell_type": "markdown",
      "metadata": {
        "id": "VgrE86r5E5IK"
      },
      "source": [
        "## Create the Model 🤖\n",
        "\n",
        "- We have studied our environment and we understood the problem: **being able to land the Lunar Lander to the Landing Pad correctly by controlling left, right and main orientation engine**. Now let's build the algorithm we're going to use to solve this Problem 🚀.\n",
        "\n",
        "- To do so, we're going to use our first Deep RL library, [Stable Baselines3 (SB3)](https://stable-baselines3.readthedocs.io/en/master/).\n",
        "\n",
        "- SB3 is a set of **reliable implementations of reinforcement learning algorithms in PyTorch**.\n",
        "\n",
        "---\n",
        "\n",
        "💡 A good habit when using a new library is to dive first on the documentation: https://stable-baselines3.readthedocs.io/en/master/ and then try some tutorials.\n",
        "\n",
        "---\n"
      ]
    },
    {
      "cell_type": "markdown",
      "metadata": {
        "id": "HLlClRW37Q7e"
      },
      "source": [
        "<img src=\"https://huggingface.co/datasets/huggingface-deep-rl-course/course-images/resolve/main/en/unit1/sb3.png\" alt=\"Stable Baselines3\">\n"
      ]
    },
    {
      "cell_type": "markdown",
      "metadata": {
        "id": "HV4yiUM_9_Ka"
      },
      "source": [
        "To solve this problem, we're going to use SB3 **PPO**. [PPO (aka Proximal Policy Optimization) is one of the SOTA (state of the art) Deep Reinforcement Learning algorithms that you'll study during this course](https://stable-baselines3.readthedocs.io/en/master/modules/ppo.html#example%5D).\n",
        "\n",
        "PPO is a combination of:\n",
        "\n",
        "- _Value-based reinforcement learning method_: learning an action-value function that will tell us the **most valuable action to take given a state and action**.\n",
        "- _Policy-based reinforcement learning method_: learning a policy that will **give us a probability distribution over actions**.\n"
      ]
    },
    {
      "cell_type": "markdown",
      "metadata": {
        "id": "5qL_4HeIOrEJ"
      },
      "source": [
        "Stable-Baselines3 is easy to set up:\n",
        "\n",
        "1️⃣ You **create your environment** (in our case it was done above)\n",
        "\n",
        "2️⃣ You define the **model you want to use and instantiate this model** `model = PPO(\"MlpPolicy\")`\n",
        "\n",
        "3️⃣ You **train the agent** with `model.learn` and define the number of training timesteps\n",
        "\n",
        "```\n",
        "# Create environment\n",
        "env = gym.make('LunarLander-v2')\n",
        "\n",
        "# Instantiate the agent\n",
        "model = PPO('MlpPolicy', env, verbose=1)\n",
        "# Train the agent\n",
        "model.learn(total_timesteps=int(2e5))\n",
        "```\n"
      ]
    },
    {
      "cell_type": "code",
      "execution_count": null,
      "metadata": {
        "id": "CSvUoexbMWR2"
      },
      "outputs": [
        {
          "data": {
            "text/plain": [
              "<pyvirtualdisplay.display.Display at 0x7f5c94c76d20>"
            ]
          },
          "execution_count": 1,
          "metadata": {},
          "output_type": "execute_result"
        }
      ],
      "source": [
        "# Virtual display\n",
        "from pyvirtualdisplay import Display\n",
        "\n",
        "virtual_display = Display(visible=0, size=(1400, 900))\n",
        "virtual_display.start()"
      ]
    },
    {
      "cell_type": "code",
      "execution_count": 2,
      "metadata": {
        "id": "nue3h4znMWR-"
      },
      "outputs": [],
      "source": [
        "import gymnasium as gym\n",
        "\n",
        "from huggingface_sb3 import load_from_hub, package_to_hub\n",
        "from huggingface_hub import notebook_login  # To log to our Hugging Face account to be able to upload models to the Hub.\n",
        "\n",
        "from stable_baselines3 import PPO\n",
        "from stable_baselines3.common.env_util import make_vec_env\n",
        "from stable_baselines3.common.evaluation import evaluate_policy\n",
        "from stable_baselines3.common.monitor import Monitor"
      ]
    },
    {
      "cell_type": "code",
      "execution_count": 3,
      "metadata": {
        "id": "OX2_SBHiMWR-"
      },
      "outputs": [],
      "source": [
        "# Create the environment\n",
        "env = make_vec_env(\"LunarLander-v2\", n_envs=64)"
      ]
    },
    {
      "cell_type": "markdown",
      "metadata": {
        "id": "QAN7B0_HCVZC"
      },
      "source": [
        "#### Solution\n"
      ]
    },
    {
      "cell_type": "code",
      "execution_count": 8,
      "metadata": {
        "id": "543OHYDfcjK4"
      },
      "outputs": [
        {
          "name": "stdout",
          "output_type": "stream",
          "text": [
            "Using cuda device\n"
          ]
        }
      ],
      "source": [
        "# SOLUTION\n",
        "# We added some parameters to accelerate the training\n",
        "model = PPO(\n",
        "    policy=\"MlpPolicy\",\n",
        "    env=env,\n",
        "    learning_rate=0.001,\n",
        "    n_steps=4096,\n",
        "    batch_size=1024,\n",
        "    n_epochs=4,\n",
        "    gamma=0.999,\n",
        "    gae_lambda=0.99,\n",
        "    ent_coef=0.01,\n",
        "    verbose=1,\n",
        "    device=\"auto\",\n",
        ")"
      ]
    },
    {
      "cell_type": "markdown",
      "metadata": {
        "id": "ClJJk88yoBUi"
      },
      "source": [
        "## Train the PPO agent 🏃\n",
        "\n",
        "- Let's train our agent for 1,000,000 timesteps, don't forget to use GPU on Colab. It will take approximately ~20min, but you can use fewer timesteps if you just want to try it out.\n",
        "- During the training, take a ☕ break you deserved it 🤗\n"
      ]
    },
    {
      "cell_type": "markdown",
      "metadata": {
        "id": "1bQzQ-QcE3zo"
      },
      "source": [
        "#### Solution\n"
      ]
    },
    {
      "cell_type": "code",
      "execution_count": 10,
      "metadata": {
        "id": "poBCy9u_csyR"
      },
      "outputs": [
        {
          "name": "stdout",
          "output_type": "stream",
          "text": [
            "---------------------------------\n",
            "| rollout/           |          |\n",
            "|    ep_len_mean     | 508      |\n",
            "|    ep_rew_mean     | 17.1     |\n",
            "| time/              |          |\n",
            "|    fps             | 1517     |\n",
            "|    iterations      | 1        |\n",
            "|    time_elapsed    | 172      |\n",
            "|    total_timesteps | 262144   |\n",
            "---------------------------------\n",
            "------------------------------------------\n",
            "| rollout/                |              |\n",
            "|    ep_len_mean          | 623          |\n",
            "|    ep_rew_mean          | 51.6         |\n",
            "| time/                   |              |\n",
            "|    fps                  | 1441         |\n",
            "|    iterations           | 2            |\n",
            "|    time_elapsed         | 363          |\n",
            "|    total_timesteps      | 524288       |\n",
            "| train/                  |              |\n",
            "|    approx_kl            | 0.0058315387 |\n",
            "|    clip_fraction        | 0.0375       |\n",
            "|    clip_range           | 0.2          |\n",
            "|    entropy_loss         | -1.21        |\n",
            "|    explained_variance   | 0.784        |\n",
            "|    learning_rate        | 0.001        |\n",
            "|    loss                 | 109          |\n",
            "|    n_updates            | 44           |\n",
            "|    policy_gradient_loss | -0.00235     |\n",
            "|    value_loss           | 226          |\n",
            "------------------------------------------\n",
            "------------------------------------------\n",
            "| rollout/                |              |\n",
            "|    ep_len_mean          | 640          |\n",
            "|    ep_rew_mean          | 57.1         |\n",
            "| time/                   |              |\n",
            "|    fps                  | 1393         |\n",
            "|    iterations           | 3            |\n",
            "|    time_elapsed         | 564          |\n",
            "|    total_timesteps      | 786432       |\n",
            "| train/                  |              |\n",
            "|    approx_kl            | 0.0051816246 |\n",
            "|    clip_fraction        | 0.038        |\n",
            "|    clip_range           | 0.2          |\n",
            "|    entropy_loss         | -1.23        |\n",
            "|    explained_variance   | 0.851        |\n",
            "|    learning_rate        | 0.001        |\n",
            "|    loss                 | 106          |\n",
            "|    n_updates            | 48           |\n",
            "|    policy_gradient_loss | -0.00186     |\n",
            "|    value_loss           | 179          |\n",
            "------------------------------------------\n",
            "------------------------------------------\n",
            "| rollout/                |              |\n",
            "|    ep_len_mean          | 850          |\n",
            "|    ep_rew_mean          | 88.5         |\n",
            "| time/                   |              |\n",
            "|    fps                  | 1356         |\n",
            "|    iterations           | 4            |\n",
            "|    time_elapsed         | 773          |\n",
            "|    total_timesteps      | 1048576      |\n",
            "| train/                  |              |\n",
            "|    approx_kl            | 0.0046569956 |\n",
            "|    clip_fraction        | 0.0301       |\n",
            "|    clip_range           | 0.2          |\n",
            "|    entropy_loss         | -1.23        |\n",
            "|    explained_variance   | 0.899        |\n",
            "|    learning_rate        | 0.001        |\n",
            "|    loss                 | 63.8         |\n",
            "|    n_updates            | 52           |\n",
            "|    policy_gradient_loss | -0.00165     |\n",
            "|    value_loss           | 136          |\n",
            "------------------------------------------\n",
            "----------------------------------------\n",
            "| rollout/                |            |\n",
            "|    ep_len_mean          | 930        |\n",
            "|    ep_rew_mean          | 106        |\n",
            "| time/                   |            |\n",
            "|    fps                  | 1334       |\n",
            "|    iterations           | 5          |\n",
            "|    time_elapsed         | 982        |\n",
            "|    total_timesteps      | 1310720    |\n",
            "| train/                  |            |\n",
            "|    approx_kl            | 0.00565847 |\n",
            "|    clip_fraction        | 0.0366     |\n",
            "|    clip_range           | 0.2        |\n",
            "|    entropy_loss         | -1.24      |\n",
            "|    explained_variance   | 0.933      |\n",
            "|    learning_rate        | 0.001      |\n",
            "|    loss                 | 31.2       |\n",
            "|    n_updates            | 56         |\n",
            "|    policy_gradient_loss | -0.00153   |\n",
            "|    value_loss           | 86.2       |\n",
            "----------------------------------------\n",
            "------------------------------------------\n",
            "| rollout/                |              |\n",
            "|    ep_len_mean          | 889          |\n",
            "|    ep_rew_mean          | 103          |\n",
            "| time/                   |              |\n",
            "|    fps                  | 1324         |\n",
            "|    iterations           | 6            |\n",
            "|    time_elapsed         | 1187         |\n",
            "|    total_timesteps      | 1572864      |\n",
            "| train/                  |              |\n",
            "|    approx_kl            | 0.0043701655 |\n",
            "|    clip_fraction        | 0.0313       |\n",
            "|    clip_range           | 0.2          |\n",
            "|    entropy_loss         | -1.23        |\n",
            "|    explained_variance   | 0.943        |\n",
            "|    learning_rate        | 0.001        |\n",
            "|    loss                 | 53.3         |\n",
            "|    n_updates            | 60           |\n",
            "|    policy_gradient_loss | -0.00159     |\n",
            "|    value_loss           | 90.2         |\n",
            "------------------------------------------\n",
            "-----------------------------------------\n",
            "| rollout/                |             |\n",
            "|    ep_len_mean          | 963         |\n",
            "|    ep_rew_mean          | 106         |\n",
            "| time/                   |             |\n",
            "|    fps                  | 1314        |\n",
            "|    iterations           | 7           |\n",
            "|    time_elapsed         | 1396        |\n",
            "|    total_timesteps      | 1835008     |\n",
            "| train/                  |             |\n",
            "|    approx_kl            | 0.005388513 |\n",
            "|    clip_fraction        | 0.0485      |\n",
            "|    clip_range           | 0.2         |\n",
            "|    entropy_loss         | -1.22       |\n",
            "|    explained_variance   | 0.955       |\n",
            "|    learning_rate        | 0.001       |\n",
            "|    loss                 | 28.1        |\n",
            "|    n_updates            | 64          |\n",
            "|    policy_gradient_loss | -0.0016     |\n",
            "|    value_loss           | 76.6        |\n",
            "-----------------------------------------\n",
            "------------------------------------------\n",
            "| rollout/                |              |\n",
            "|    ep_len_mean          | 967          |\n",
            "|    ep_rew_mean          | 124          |\n",
            "| time/                   |              |\n",
            "|    fps                  | 1313         |\n",
            "|    iterations           | 8            |\n",
            "|    time_elapsed         | 1596         |\n",
            "|    total_timesteps      | 2097152      |\n",
            "| train/                  |              |\n",
            "|    approx_kl            | 0.0058831107 |\n",
            "|    clip_fraction        | 0.0483       |\n",
            "|    clip_range           | 0.2          |\n",
            "|    entropy_loss         | -1.22        |\n",
            "|    explained_variance   | 0.974        |\n",
            "|    learning_rate        | 0.001        |\n",
            "|    loss                 | 38.7         |\n",
            "|    n_updates            | 68           |\n",
            "|    policy_gradient_loss | -0.00183     |\n",
            "|    value_loss           | 46.7         |\n",
            "------------------------------------------\n",
            "------------------------------------------\n",
            "| rollout/                |              |\n",
            "|    ep_len_mean          | 975          |\n",
            "|    ep_rew_mean          | 134          |\n",
            "| time/                   |              |\n",
            "|    fps                  | 1313         |\n",
            "|    iterations           | 9            |\n",
            "|    time_elapsed         | 1795         |\n",
            "|    total_timesteps      | 2359296      |\n",
            "| train/                  |              |\n",
            "|    approx_kl            | 0.0069778534 |\n",
            "|    clip_fraction        | 0.0469       |\n",
            "|    clip_range           | 0.2          |\n",
            "|    entropy_loss         | -1.2         |\n",
            "|    explained_variance   | 0.987        |\n",
            "|    learning_rate        | 0.001        |\n",
            "|    loss                 | 8.56         |\n",
            "|    n_updates            | 72           |\n",
            "|    policy_gradient_loss | -0.00178     |\n",
            "|    value_loss           | 21.6         |\n",
            "------------------------------------------\n",
            "-----------------------------------------\n",
            "| rollout/                |             |\n",
            "|    ep_len_mean          | 967         |\n",
            "|    ep_rew_mean          | 141         |\n",
            "| time/                   |             |\n",
            "|    fps                  | 1324        |\n",
            "|    iterations           | 10          |\n",
            "|    time_elapsed         | 1979        |\n",
            "|    total_timesteps      | 2621440     |\n",
            "| train/                  |             |\n",
            "|    approx_kl            | 0.004442039 |\n",
            "|    clip_fraction        | 0.0415      |\n",
            "|    clip_range           | 0.2         |\n",
            "|    entropy_loss         | -1.17       |\n",
            "|    explained_variance   | 0.987       |\n",
            "|    learning_rate        | 0.001       |\n",
            "|    loss                 | 15.3        |\n",
            "|    n_updates            | 76          |\n",
            "|    policy_gradient_loss | -0.00158    |\n",
            "|    value_loss           | 24.3        |\n",
            "-----------------------------------------\n",
            "-----------------------------------------\n",
            "| rollout/                |             |\n",
            "|    ep_len_mean          | 1e+03       |\n",
            "|    ep_rew_mean          | 148         |\n",
            "| time/                   |             |\n",
            "|    fps                  | 1336        |\n",
            "|    iterations           | 11          |\n",
            "|    time_elapsed         | 2157        |\n",
            "|    total_timesteps      | 2883584     |\n",
            "| train/                  |             |\n",
            "|    approx_kl            | 0.005151171 |\n",
            "|    clip_fraction        | 0.029       |\n",
            "|    clip_range           | 0.2         |\n",
            "|    entropy_loss         | -1.13       |\n",
            "|    explained_variance   | 0.994       |\n",
            "|    learning_rate        | 0.001       |\n",
            "|    loss                 | 5.49        |\n",
            "|    n_updates            | 80          |\n",
            "|    policy_gradient_loss | -0.00115    |\n",
            "|    value_loss           | 11.6        |\n",
            "-----------------------------------------\n",
            "----------------------------------------\n",
            "| rollout/                |            |\n",
            "|    ep_len_mean          | 984        |\n",
            "|    ep_rew_mean          | 156        |\n",
            "| time/                   |            |\n",
            "|    fps                  | 1352       |\n",
            "|    iterations           | 12         |\n",
            "|    time_elapsed         | 2325       |\n",
            "|    total_timesteps      | 3145728    |\n",
            "| train/                  |            |\n",
            "|    approx_kl            | 0.00527855 |\n",
            "|    clip_fraction        | 0.0356     |\n",
            "|    clip_range           | 0.2        |\n",
            "|    entropy_loss         | -1.09      |\n",
            "|    explained_variance   | 0.997      |\n",
            "|    learning_rate        | 0.001      |\n",
            "|    loss                 | 1.84       |\n",
            "|    n_updates            | 84         |\n",
            "|    policy_gradient_loss | -0.00184   |\n",
            "|    value_loss           | 4.8        |\n",
            "----------------------------------------\n",
            "------------------------------------------\n",
            "| rollout/                |              |\n",
            "|    ep_len_mean          | 992          |\n",
            "|    ep_rew_mean          | 154          |\n",
            "| time/                   |              |\n",
            "|    fps                  | 1368         |\n",
            "|    iterations           | 13           |\n",
            "|    time_elapsed         | 2490         |\n",
            "|    total_timesteps      | 3407872      |\n",
            "| train/                  |              |\n",
            "|    approx_kl            | 0.0049008434 |\n",
            "|    clip_fraction        | 0.0345       |\n",
            "|    clip_range           | 0.2          |\n",
            "|    entropy_loss         | -1.03        |\n",
            "|    explained_variance   | 0.995        |\n",
            "|    learning_rate        | 0.001        |\n",
            "|    loss                 | 6.34         |\n",
            "|    n_updates            | 88           |\n",
            "|    policy_gradient_loss | -0.0013      |\n",
            "|    value_loss           | 10.7         |\n",
            "------------------------------------------\n",
            "-----------------------------------------\n",
            "| rollout/                |             |\n",
            "|    ep_len_mean          | 991         |\n",
            "|    ep_rew_mean          | 157         |\n",
            "| time/                   |             |\n",
            "|    fps                  | 1382        |\n",
            "|    iterations           | 14          |\n",
            "|    time_elapsed         | 2654        |\n",
            "|    total_timesteps      | 3670016     |\n",
            "| train/                  |             |\n",
            "|    approx_kl            | 0.004701451 |\n",
            "|    clip_fraction        | 0.0348      |\n",
            "|    clip_range           | 0.2         |\n",
            "|    entropy_loss         | -0.977      |\n",
            "|    explained_variance   | 0.998       |\n",
            "|    learning_rate        | 0.001       |\n",
            "|    loss                 | 0.975       |\n",
            "|    n_updates            | 92          |\n",
            "|    policy_gradient_loss | -0.00162    |\n",
            "|    value_loss           | 3.23        |\n",
            "-----------------------------------------\n",
            "------------------------------------------\n",
            "| rollout/                |              |\n",
            "|    ep_len_mean          | 1e+03        |\n",
            "|    ep_rew_mean          | 162          |\n",
            "| time/                   |              |\n",
            "|    fps                  | 1398         |\n",
            "|    iterations           | 15           |\n",
            "|    time_elapsed         | 2811         |\n",
            "|    total_timesteps      | 3932160      |\n",
            "| train/                  |              |\n",
            "|    approx_kl            | 0.0039199907 |\n",
            "|    clip_fraction        | 0.0328       |\n",
            "|    clip_range           | 0.2          |\n",
            "|    entropy_loss         | -0.975       |\n",
            "|    explained_variance   | 0.994        |\n",
            "|    learning_rate        | 0.001        |\n",
            "|    loss                 | 10.4         |\n",
            "|    n_updates            | 96           |\n",
            "|    policy_gradient_loss | -0.000794    |\n",
            "|    value_loss           | 11.1         |\n",
            "------------------------------------------\n",
            "-----------------------------------------\n",
            "| rollout/                |             |\n",
            "|    ep_len_mean          | 992         |\n",
            "|    ep_rew_mean          | 166         |\n",
            "| time/                   |             |\n",
            "|    fps                  | 1414        |\n",
            "|    iterations           | 16          |\n",
            "|    time_elapsed         | 2964        |\n",
            "|    total_timesteps      | 4194304     |\n",
            "| train/                  |             |\n",
            "|    approx_kl            | 0.004749028 |\n",
            "|    clip_fraction        | 0.0298      |\n",
            "|    clip_range           | 0.2         |\n",
            "|    entropy_loss         | -0.953      |\n",
            "|    explained_variance   | 0.997       |\n",
            "|    learning_rate        | 0.001       |\n",
            "|    loss                 | 0.883       |\n",
            "|    n_updates            | 100         |\n",
            "|    policy_gradient_loss | -0.00138    |\n",
            "|    value_loss           | 3.89        |\n",
            "-----------------------------------------\n",
            "-----------------------------------------\n",
            "| rollout/                |             |\n",
            "|    ep_len_mean          | 1e+03       |\n",
            "|    ep_rew_mean          | 167         |\n",
            "| time/                   |             |\n",
            "|    fps                  | 1428        |\n",
            "|    iterations           | 17          |\n",
            "|    time_elapsed         | 3118        |\n",
            "|    total_timesteps      | 4456448     |\n",
            "| train/                  |             |\n",
            "|    approx_kl            | 0.003903241 |\n",
            "|    clip_fraction        | 0.0312      |\n",
            "|    clip_range           | 0.2         |\n",
            "|    entropy_loss         | -0.926      |\n",
            "|    explained_variance   | 0.996       |\n",
            "|    learning_rate        | 0.001       |\n",
            "|    loss                 | 12.6        |\n",
            "|    n_updates            | 104         |\n",
            "|    policy_gradient_loss | -0.000982   |\n",
            "|    value_loss           | 9.64        |\n",
            "-----------------------------------------\n",
            "------------------------------------------\n",
            "| rollout/                |              |\n",
            "|    ep_len_mean          | 985          |\n",
            "|    ep_rew_mean          | 173          |\n",
            "| time/                   |              |\n",
            "|    fps                  | 1446         |\n",
            "|    iterations           | 18           |\n",
            "|    time_elapsed         | 3263         |\n",
            "|    total_timesteps      | 4718592      |\n",
            "| train/                  |              |\n",
            "|    approx_kl            | 0.0029251168 |\n",
            "|    clip_fraction        | 0.0278       |\n",
            "|    clip_range           | 0.2          |\n",
            "|    entropy_loss         | -0.886       |\n",
            "|    explained_variance   | 0.999        |\n",
            "|    learning_rate        | 0.001        |\n",
            "|    loss                 | 0.783        |\n",
            "|    n_updates            | 108          |\n",
            "|    policy_gradient_loss | -0.002       |\n",
            "|    value_loss           | 1.58         |\n",
            "------------------------------------------\n",
            "------------------------------------------\n",
            "| rollout/                |              |\n",
            "|    ep_len_mean          | 865          |\n",
            "|    ep_rew_mean          | 196          |\n",
            "| time/                   |              |\n",
            "|    fps                  | 1466         |\n",
            "|    iterations           | 19           |\n",
            "|    time_elapsed         | 3397         |\n",
            "|    total_timesteps      | 4980736      |\n",
            "| train/                  |              |\n",
            "|    approx_kl            | 0.0048868814 |\n",
            "|    clip_fraction        | 0.0625       |\n",
            "|    clip_range           | 0.2          |\n",
            "|    entropy_loss         | -0.813       |\n",
            "|    explained_variance   | 0.978        |\n",
            "|    learning_rate        | 0.001        |\n",
            "|    loss                 | 23.5         |\n",
            "|    n_updates            | 112          |\n",
            "|    policy_gradient_loss | -0.00147     |\n",
            "|    value_loss           | 50.2         |\n",
            "------------------------------------------\n",
            "-----------------------------------------\n",
            "| rollout/                |             |\n",
            "|    ep_len_mean          | 726         |\n",
            "|    ep_rew_mean          | 230         |\n",
            "| time/                   |             |\n",
            "|    fps                  | 1490        |\n",
            "|    iterations           | 20          |\n",
            "|    time_elapsed         | 3517        |\n",
            "|    total_timesteps      | 5242880     |\n",
            "| train/                  |             |\n",
            "|    approx_kl            | 0.005783586 |\n",
            "|    clip_fraction        | 0.0515      |\n",
            "|    clip_range           | 0.2         |\n",
            "|    entropy_loss         | -0.723      |\n",
            "|    explained_variance   | 0.917       |\n",
            "|    learning_rate        | 0.001       |\n",
            "|    loss                 | 120         |\n",
            "|    n_updates            | 116         |\n",
            "|    policy_gradient_loss | -0.00228    |\n",
            "|    value_loss           | 207         |\n",
            "-----------------------------------------\n",
            "-----------------------------------------\n",
            "| rollout/                |             |\n",
            "|    ep_len_mean          | 503         |\n",
            "|    ep_rew_mean          | 264         |\n",
            "| time/                   |             |\n",
            "|    fps                  | 1517        |\n",
            "|    iterations           | 21          |\n",
            "|    time_elapsed         | 3627        |\n",
            "|    total_timesteps      | 5505024     |\n",
            "| train/                  |             |\n",
            "|    approx_kl            | 0.004603799 |\n",
            "|    clip_fraction        | 0.0508      |\n",
            "|    clip_range           | 0.2         |\n",
            "|    entropy_loss         | -0.646      |\n",
            "|    explained_variance   | 0.815       |\n",
            "|    learning_rate        | 0.001       |\n",
            "|    loss                 | 275         |\n",
            "|    n_updates            | 120         |\n",
            "|    policy_gradient_loss | -0.00324    |\n",
            "|    value_loss           | 531         |\n",
            "-----------------------------------------\n",
            "-----------------------------------------\n",
            "| rollout/                |             |\n",
            "|    ep_len_mean          | 390         |\n",
            "|    ep_rew_mean          | 270         |\n",
            "| time/                   |             |\n",
            "|    fps                  | 1549        |\n",
            "|    iterations           | 22          |\n",
            "|    time_elapsed         | 3722        |\n",
            "|    total_timesteps      | 5767168     |\n",
            "| train/                  |             |\n",
            "|    approx_kl            | 0.004358558 |\n",
            "|    clip_fraction        | 0.0589      |\n",
            "|    clip_range           | 0.2         |\n",
            "|    entropy_loss         | -0.634      |\n",
            "|    explained_variance   | 0.755       |\n",
            "|    learning_rate        | 0.001       |\n",
            "|    loss                 | 365         |\n",
            "|    n_updates            | 124         |\n",
            "|    policy_gradient_loss | -0.00351    |\n",
            "|    value_loss           | 748         |\n",
            "-----------------------------------------\n",
            "------------------------------------------\n",
            "| rollout/                |              |\n",
            "|    ep_len_mean          | 324          |\n",
            "|    ep_rew_mean          | 283          |\n",
            "| time/                   |              |\n",
            "|    fps                  | 1584         |\n",
            "|    iterations           | 23           |\n",
            "|    time_elapsed         | 3806         |\n",
            "|    total_timesteps      | 6029312      |\n",
            "| train/                  |              |\n",
            "|    approx_kl            | 0.0042586946 |\n",
            "|    clip_fraction        | 0.0537       |\n",
            "|    clip_range           | 0.2          |\n",
            "|    entropy_loss         | -0.624       |\n",
            "|    explained_variance   | 0.8          |\n",
            "|    learning_rate        | 0.001        |\n",
            "|    loss                 | 294          |\n",
            "|    n_updates            | 128          |\n",
            "|    policy_gradient_loss | -0.00317     |\n",
            "|    value_loss           | 586          |\n",
            "------------------------------------------\n",
            "------------------------------------------\n",
            "| rollout/                |              |\n",
            "|    ep_len_mean          | 284          |\n",
            "|    ep_rew_mean          | 277          |\n",
            "| time/                   |              |\n",
            "|    fps                  | 1620         |\n",
            "|    iterations           | 24           |\n",
            "|    time_elapsed         | 3882         |\n",
            "|    total_timesteps      | 6291456      |\n",
            "| train/                  |              |\n",
            "|    approx_kl            | 0.0036006074 |\n",
            "|    clip_fraction        | 0.0481       |\n",
            "|    clip_range           | 0.2          |\n",
            "|    entropy_loss         | -0.656       |\n",
            "|    explained_variance   | 0.872        |\n",
            "|    learning_rate        | 0.001        |\n",
            "|    loss                 | 217          |\n",
            "|    n_updates            | 132          |\n",
            "|    policy_gradient_loss | -0.00255     |\n",
            "|    value_loss           | 347          |\n",
            "------------------------------------------\n",
            "-----------------------------------------\n",
            "| rollout/                |             |\n",
            "|    ep_len_mean          | 259         |\n",
            "|    ep_rew_mean          | 283         |\n",
            "| time/                   |             |\n",
            "|    fps                  | 1658        |\n",
            "|    iterations           | 25          |\n",
            "|    time_elapsed         | 3952        |\n",
            "|    total_timesteps      | 6553600     |\n",
            "| train/                  |             |\n",
            "|    approx_kl            | 0.002649182 |\n",
            "|    clip_fraction        | 0.0307      |\n",
            "|    clip_range           | 0.2         |\n",
            "|    entropy_loss         | -0.663      |\n",
            "|    explained_variance   | 0.94        |\n",
            "|    learning_rate        | 0.001       |\n",
            "|    loss                 | 93.8        |\n",
            "|    n_updates            | 136         |\n",
            "|    policy_gradient_loss | -0.00159    |\n",
            "|    value_loss           | 178         |\n",
            "-----------------------------------------\n",
            "------------------------------------------\n",
            "| rollout/                |              |\n",
            "|    ep_len_mean          | 235          |\n",
            "|    ep_rew_mean          | 285          |\n",
            "| time/                   |              |\n",
            "|    fps                  | 1695         |\n",
            "|    iterations           | 26           |\n",
            "|    time_elapsed         | 4019         |\n",
            "|    total_timesteps      | 6815744      |\n",
            "| train/                  |              |\n",
            "|    approx_kl            | 0.0029192702 |\n",
            "|    clip_fraction        | 0.0257       |\n",
            "|    clip_range           | 0.2          |\n",
            "|    entropy_loss         | -0.678       |\n",
            "|    explained_variance   | 0.965        |\n",
            "|    learning_rate        | 0.001        |\n",
            "|    loss                 | 26.5         |\n",
            "|    n_updates            | 140          |\n",
            "|    policy_gradient_loss | -0.001       |\n",
            "|    value_loss           | 91.5         |\n",
            "------------------------------------------\n",
            "------------------------------------------\n",
            "| rollout/                |              |\n",
            "|    ep_len_mean          | 233          |\n",
            "|    ep_rew_mean          | 285          |\n",
            "| time/                   |              |\n",
            "|    fps                  | 1732         |\n",
            "|    iterations           | 27           |\n",
            "|    time_elapsed         | 4085         |\n",
            "|    total_timesteps      | 7077888      |\n",
            "| train/                  |              |\n",
            "|    approx_kl            | 0.0034852768 |\n",
            "|    clip_fraction        | 0.0334       |\n",
            "|    clip_range           | 0.2          |\n",
            "|    entropy_loss         | -0.682       |\n",
            "|    explained_variance   | 0.975        |\n",
            "|    learning_rate        | 0.001        |\n",
            "|    loss                 | 52.8         |\n",
            "|    n_updates            | 144          |\n",
            "|    policy_gradient_loss | -0.000712    |\n",
            "|    value_loss           | 66.3         |\n",
            "------------------------------------------\n",
            "------------------------------------------\n",
            "| rollout/                |              |\n",
            "|    ep_len_mean          | 223          |\n",
            "|    ep_rew_mean          | 284          |\n",
            "| time/                   |              |\n",
            "|    fps                  | 1768         |\n",
            "|    iterations           | 28           |\n",
            "|    time_elapsed         | 4149         |\n",
            "|    total_timesteps      | 7340032      |\n",
            "| train/                  |              |\n",
            "|    approx_kl            | 0.0037058524 |\n",
            "|    clip_fraction        | 0.0402       |\n",
            "|    clip_range           | 0.2          |\n",
            "|    entropy_loss         | -0.678       |\n",
            "|    explained_variance   | 0.984        |\n",
            "|    learning_rate        | 0.001        |\n",
            "|    loss                 | 10.9         |\n",
            "|    n_updates            | 148          |\n",
            "|    policy_gradient_loss | -0.000779    |\n",
            "|    value_loss           | 45.4         |\n",
            "------------------------------------------\n",
            "-----------------------------------------\n",
            "| rollout/                |             |\n",
            "|    ep_len_mean          | 214         |\n",
            "|    ep_rew_mean          | 281         |\n",
            "| time/                   |             |\n",
            "|    fps                  | 1804        |\n",
            "|    iterations           | 29          |\n",
            "|    time_elapsed         | 4212        |\n",
            "|    total_timesteps      | 7602176     |\n",
            "| train/                  |             |\n",
            "|    approx_kl            | 0.003789777 |\n",
            "|    clip_fraction        | 0.04        |\n",
            "|    clip_range           | 0.2         |\n",
            "|    entropy_loss         | -0.674      |\n",
            "|    explained_variance   | 0.986       |\n",
            "|    learning_rate        | 0.001       |\n",
            "|    loss                 | 21.9        |\n",
            "|    n_updates            | 152         |\n",
            "|    policy_gradient_loss | -0.000462   |\n",
            "|    value_loss           | 50.6        |\n",
            "-----------------------------------------\n",
            "------------------------------------------\n",
            "| rollout/                |              |\n",
            "|    ep_len_mean          | 221          |\n",
            "|    ep_rew_mean          | 281          |\n",
            "| time/                   |              |\n",
            "|    fps                  | 1839         |\n",
            "|    iterations           | 30           |\n",
            "|    time_elapsed         | 4275         |\n",
            "|    total_timesteps      | 7864320      |\n",
            "| train/                  |              |\n",
            "|    approx_kl            | 0.0028966735 |\n",
            "|    clip_fraction        | 0.0307       |\n",
            "|    clip_range           | 0.2          |\n",
            "|    entropy_loss         | -0.656       |\n",
            "|    explained_variance   | 0.989        |\n",
            "|    learning_rate        | 0.001        |\n",
            "|    loss                 | 30           |\n",
            "|    n_updates            | 156          |\n",
            "|    policy_gradient_loss | -0.000251    |\n",
            "|    value_loss           | 39.8         |\n",
            "------------------------------------------\n",
            "-----------------------------------------\n",
            "| rollout/                |             |\n",
            "|    ep_len_mean          | 218         |\n",
            "|    ep_rew_mean          | 287         |\n",
            "| time/                   |             |\n",
            "|    fps                  | 1872        |\n",
            "|    iterations           | 31          |\n",
            "|    time_elapsed         | 4339        |\n",
            "|    total_timesteps      | 8126464     |\n",
            "| train/                  |             |\n",
            "|    approx_kl            | 0.003595383 |\n",
            "|    clip_fraction        | 0.0403      |\n",
            "|    clip_range           | 0.2         |\n",
            "|    entropy_loss         | -0.669      |\n",
            "|    explained_variance   | 0.99        |\n",
            "|    learning_rate        | 0.001       |\n",
            "|    loss                 | 8.41        |\n",
            "|    n_updates            | 160         |\n",
            "|    policy_gradient_loss | -5.76e-06   |\n",
            "|    value_loss           | 30.5        |\n",
            "-----------------------------------------\n",
            "---------------------------------------\n",
            "| rollout/                |           |\n",
            "|    ep_len_mean          | 209       |\n",
            "|    ep_rew_mean          | 282       |\n",
            "| time/                   |           |\n",
            "|    fps                  | 1906      |\n",
            "|    iterations           | 32        |\n",
            "|    time_elapsed         | 4399      |\n",
            "|    total_timesteps      | 8388608   |\n",
            "| train/                  |           |\n",
            "|    approx_kl            | 0.0040241 |\n",
            "|    clip_fraction        | 0.047     |\n",
            "|    clip_range           | 0.2       |\n",
            "|    entropy_loss         | -0.668    |\n",
            "|    explained_variance   | 0.992     |\n",
            "|    learning_rate        | 0.001     |\n",
            "|    loss                 | 10.4      |\n",
            "|    n_updates            | 164       |\n",
            "|    policy_gradient_loss | -0.000388 |\n",
            "|    value_loss           | 31.7      |\n",
            "---------------------------------------\n",
            "-----------------------------------------\n",
            "| rollout/                |             |\n",
            "|    ep_len_mean          | 201         |\n",
            "|    ep_rew_mean          | 287         |\n",
            "| time/                   |             |\n",
            "|    fps                  | 1939        |\n",
            "|    iterations           | 33          |\n",
            "|    time_elapsed         | 4460        |\n",
            "|    total_timesteps      | 8650752     |\n",
            "| train/                  |             |\n",
            "|    approx_kl            | 0.003638952 |\n",
            "|    clip_fraction        | 0.0447      |\n",
            "|    clip_range           | 0.2         |\n",
            "|    entropy_loss         | -0.655      |\n",
            "|    explained_variance   | 0.99        |\n",
            "|    learning_rate        | 0.001       |\n",
            "|    loss                 | 23.9        |\n",
            "|    n_updates            | 168         |\n",
            "|    policy_gradient_loss | -0.000278   |\n",
            "|    value_loss           | 40.7        |\n",
            "-----------------------------------------\n",
            "------------------------------------------\n",
            "| rollout/                |              |\n",
            "|    ep_len_mean          | 211          |\n",
            "|    ep_rew_mean          | 284          |\n",
            "| time/                   |              |\n",
            "|    fps                  | 1971         |\n",
            "|    iterations           | 34           |\n",
            "|    time_elapsed         | 4521         |\n",
            "|    total_timesteps      | 8912896      |\n",
            "| train/                  |              |\n",
            "|    approx_kl            | 0.0039221407 |\n",
            "|    clip_fraction        | 0.0464       |\n",
            "|    clip_range           | 0.2          |\n",
            "|    entropy_loss         | -0.646       |\n",
            "|    explained_variance   | 0.993        |\n",
            "|    learning_rate        | 0.001        |\n",
            "|    loss                 | 13.6         |\n",
            "|    n_updates            | 172          |\n",
            "|    policy_gradient_loss | -0.000516    |\n",
            "|    value_loss           | 28.4         |\n",
            "------------------------------------------\n",
            "------------------------------------------\n",
            "| rollout/                |              |\n",
            "|    ep_len_mean          | 204          |\n",
            "|    ep_rew_mean          | 288          |\n",
            "| time/                   |              |\n",
            "|    fps                  | 2003         |\n",
            "|    iterations           | 35           |\n",
            "|    time_elapsed         | 4580         |\n",
            "|    total_timesteps      | 9175040      |\n",
            "| train/                  |              |\n",
            "|    approx_kl            | 0.0038142432 |\n",
            "|    clip_fraction        | 0.0437       |\n",
            "|    clip_range           | 0.2          |\n",
            "|    entropy_loss         | -0.634       |\n",
            "|    explained_variance   | 0.989        |\n",
            "|    learning_rate        | 0.001        |\n",
            "|    loss                 | 52.4         |\n",
            "|    n_updates            | 176          |\n",
            "|    policy_gradient_loss | -0.000524    |\n",
            "|    value_loss           | 44.8         |\n",
            "------------------------------------------\n",
            "------------------------------------------\n",
            "| rollout/                |              |\n",
            "|    ep_len_mean          | 198          |\n",
            "|    ep_rew_mean          | 284          |\n",
            "| time/                   |              |\n",
            "|    fps                  | 2034         |\n",
            "|    iterations           | 36           |\n",
            "|    time_elapsed         | 4638         |\n",
            "|    total_timesteps      | 9437184      |\n",
            "| train/                  |              |\n",
            "|    approx_kl            | 0.0037080157 |\n",
            "|    clip_fraction        | 0.0364       |\n",
            "|    clip_range           | 0.2          |\n",
            "|    entropy_loss         | -0.622       |\n",
            "|    explained_variance   | 0.984        |\n",
            "|    learning_rate        | 0.001        |\n",
            "|    loss                 | 26           |\n",
            "|    n_updates            | 180          |\n",
            "|    policy_gradient_loss | 6.87e-05     |\n",
            "|    value_loss           | 70.8         |\n",
            "------------------------------------------\n",
            "------------------------------------------\n",
            "| rollout/                |              |\n",
            "|    ep_len_mean          | 202          |\n",
            "|    ep_rew_mean          | 284          |\n",
            "| time/                   |              |\n",
            "|    fps                  | 2065         |\n",
            "|    iterations           | 37           |\n",
            "|    time_elapsed         | 4695         |\n",
            "|    total_timesteps      | 9699328      |\n",
            "| train/                  |              |\n",
            "|    approx_kl            | 0.0037145426 |\n",
            "|    clip_fraction        | 0.0382       |\n",
            "|    clip_range           | 0.2          |\n",
            "|    entropy_loss         | -0.622       |\n",
            "|    explained_variance   | 0.986        |\n",
            "|    learning_rate        | 0.001        |\n",
            "|    loss                 | 16.7         |\n",
            "|    n_updates            | 184          |\n",
            "|    policy_gradient_loss | -0.000101    |\n",
            "|    value_loss           | 55.7         |\n",
            "------------------------------------------\n",
            "------------------------------------------\n",
            "| rollout/                |              |\n",
            "|    ep_len_mean          | 192          |\n",
            "|    ep_rew_mean          | 283          |\n",
            "| time/                   |              |\n",
            "|    fps                  | 2095         |\n",
            "|    iterations           | 38           |\n",
            "|    time_elapsed         | 4753         |\n",
            "|    total_timesteps      | 9961472      |\n",
            "| train/                  |              |\n",
            "|    approx_kl            | 0.0037877797 |\n",
            "|    clip_fraction        | 0.0542       |\n",
            "|    clip_range           | 0.2          |\n",
            "|    entropy_loss         | -0.621       |\n",
            "|    explained_variance   | 0.99         |\n",
            "|    learning_rate        | 0.001        |\n",
            "|    loss                 | 6.88         |\n",
            "|    n_updates            | 188          |\n",
            "|    policy_gradient_loss | 0.000327     |\n",
            "|    value_loss           | 38.7         |\n",
            "------------------------------------------\n",
            "------------------------------------------\n",
            "| rollout/                |              |\n",
            "|    ep_len_mean          | 200          |\n",
            "|    ep_rew_mean          | 282          |\n",
            "| time/                   |              |\n",
            "|    fps                  | 2125         |\n",
            "|    iterations           | 39           |\n",
            "|    time_elapsed         | 4810         |\n",
            "|    total_timesteps      | 10223616     |\n",
            "| train/                  |              |\n",
            "|    approx_kl            | 0.0033572193 |\n",
            "|    clip_fraction        | 0.0295       |\n",
            "|    clip_range           | 0.2          |\n",
            "|    entropy_loss         | -0.604       |\n",
            "|    explained_variance   | 0.968        |\n",
            "|    learning_rate        | 0.001        |\n",
            "|    loss                 | 81.8         |\n",
            "|    n_updates            | 192          |\n",
            "|    policy_gradient_loss | -0.000127    |\n",
            "|    value_loss           | 146          |\n",
            "------------------------------------------\n"
          ]
        }
      ],
      "source": [
        "# SOLUTION\n",
        "# Train it for 1,000,000 timesteps\n",
        "model.learn(total_timesteps=10000000)\n",
        "# Save the model\n",
        "model_name = \"ppo-LunarLander-v2\"\n",
        "model.save(model_name)"
      ]
    },
    {
      "cell_type": "markdown",
      "metadata": {
        "id": "BY_HuedOoISR"
      },
      "source": [
        "## Evaluate the agent 📈\n",
        "\n",
        "- Remember to wrap the environment in a [Monitor](https://stable-baselines3.readthedocs.io/en/master/common/monitor.html).\n",
        "- Now that our Lunar Lander agent is trained 🚀, we need to **check its performance**.\n",
        "- Stable-Baselines3 provides a method to do that: `evaluate_policy`.\n",
        "- To fill that part you need to [check the documentation](https://stable-baselines3.readthedocs.io/en/master/guide/examples.html#basic-usage-training-saving-loading)\n",
        "- In the next step, we'll see **how to automatically evaluate and share your agent to compete in a leaderboard, but for now let's do it ourselves**\n",
        "\n",
        "💡 When you evaluate your agent, you should not use your training environment but create an evaluation environment.\n"
      ]
    },
    {
      "cell_type": "markdown",
      "metadata": {
        "id": "BqPKw3jt_pG5"
      },
      "source": [
        "#### Solution\n"
      ]
    },
    {
      "cell_type": "code",
      "execution_count": 11,
      "metadata": {
        "id": "zpz8kHlt_a_m"
      },
      "outputs": [
        {
          "name": "stdout",
          "output_type": "stream",
          "text": [
            "mean_reward=287.47 +/- 13.486865016628906\n"
          ]
        }
      ],
      "source": [
        "# @title\n",
        "eval_env = Monitor(gym.make(\"LunarLander-v2\"))\n",
        "mean_reward, std_reward = evaluate_policy(model, eval_env, n_eval_episodes=10, deterministic=True)\n",
        "print(f\"mean_reward={mean_reward:.2f} +/- {std_reward}\")"
      ]
    },
    {
      "cell_type": "markdown",
      "metadata": {
        "id": "reBhoODwcXfr"
      },
      "source": [
        "- In my case, I got a mean reward of `200.20 +/- 20.80` after training for 1 million steps, which means that our lunar lander agent is ready to land on the moon 🌛🥳.\n"
      ]
    },
    {
      "cell_type": "markdown",
      "metadata": {
        "id": "IK_kR78NoNb2"
      },
      "source": [
        "## Publish our trained model on the Hub 🔥\n",
        "\n",
        "Now that we saw we got good results after the training, we can publish our trained model on the hub 🤗 with one line of code.\n",
        "\n",
        "📚 The libraries documentation 👉 https://github.com/huggingface/huggingface_sb3/tree/main#hugging-face--x-stable-baselines3-v20\n",
        "\n",
        "Here's an example of a Model Card (with Space Invaders):\n"
      ]
    },
    {
      "cell_type": "markdown",
      "metadata": {
        "id": "Gs-Ew7e1gXN3"
      },
      "source": [
        "By using `package_to_hub` **you evaluate, record a replay, generate a model card of your agent and push it to the hub**.\n",
        "\n",
        "This way:\n",
        "\n",
        "- You can **showcase our work** 🔥\n",
        "- You can **visualize your agent playing** 👀\n",
        "- You can **share with the community an agent that others can use** 💾\n",
        "- You can **access a leaderboard 🏆 to see how well your agent is performing compared to your classmates** 👉 https://huggingface.co/spaces/huggingface-projects/Deep-Reinforcement-Learning-Leaderboard\n"
      ]
    },
    {
      "cell_type": "markdown",
      "metadata": {
        "id": "JquRrWytA6eo"
      },
      "source": [
        "To be able to share your model with the community there are three more steps to follow:\n",
        "\n",
        "1️⃣ (If it's not already done) create an account on Hugging Face ➡ https://huggingface.co/join\n",
        "\n",
        "2️⃣ Sign in and then, you need to store your authentication token from the Hugging Face website.\n",
        "\n",
        "- Create a new token (https://huggingface.co/settings/tokens) **with write role**\n",
        "\n",
        "<img src=\"https://huggingface.co/datasets/huggingface-deep-rl-course/course-images/resolve/main/en/notebooks/create-token.jpg\" alt=\"Create HF Token\">\n",
        "\n",
        "- Copy the token\n",
        "- Run the cell below and paste the token\n"
      ]
    },
    {
      "cell_type": "code",
      "execution_count": 12,
      "metadata": {
        "id": "GZiFBBlzxzxY"
      },
      "outputs": [
        {
          "data": {
            "application/vnd.jupyter.widget-view+json": {
              "model_id": "3206d9d669184ea785208e5a7192bc3b",
              "version_major": 2,
              "version_minor": 0
            },
            "text/plain": [
              "VBox(children=(HTML(value='<center> <img\\nsrc=https://huggingface.co/front/assets/huggingface_logo-noborder.sv…"
            ]
          },
          "metadata": {},
          "output_type": "display_data"
        }
      ],
      "source": [
        "notebook_login()\n",
        "!git config --global credential.helper store"
      ]
    },
    {
      "cell_type": "markdown",
      "metadata": {
        "id": "_tsf2uv0g_4p"
      },
      "source": [
        "If you don't want to use a Google Colab or a Jupyter Notebook, you need to use this command instead: `huggingface-cli login`\n"
      ]
    },
    {
      "cell_type": "markdown",
      "metadata": {
        "id": "FGNh9VsZok0i"
      },
      "source": [
        "3️⃣ We're now ready to push our trained agent to the 🤗 Hub 🔥 using `package_to_hub()` function\n"
      ]
    },
    {
      "cell_type": "markdown",
      "metadata": {
        "id": "Ay24l6bqFF18"
      },
      "source": [
        "Let's fill the `package_to_hub` function:\n",
        "\n",
        "- `model`: our trained model.\n",
        "- `model_name`: the name of the trained model that we defined in `model_save`\n",
        "- `model_architecture`: the model architecture we used, in our case PPO\n",
        "- `env_id`: the name of the environment, in our case `LunarLander-v2`\n",
        "- `eval_env`: the evaluation environment defined in eval_env\n",
        "- `repo_id`: the name of the Hugging Face Hub Repository that will be created/updated `(repo_id = {username}/{repo_name})`\n",
        "\n",
        "💡 **A good name is {username}/{model_architecture}-{env_id}**\n",
        "\n",
        "- `commit_message`: message of the commit\n"
      ]
    },
    {
      "cell_type": "markdown",
      "metadata": {
        "id": "Avf6gufJBGMw"
      },
      "source": [
        "#### Solution\n"
      ]
    },
    {
      "cell_type": "code",
      "execution_count": 13,
      "metadata": {
        "id": "I2E--IJu8JYq"
      },
      "outputs": [
        {
          "name": "stdout",
          "output_type": "stream",
          "text": [
            "\u001b[38;5;4mℹ This function will save, evaluate, generate a video of your agent,\n",
            "create a model card and push everything to the hub. It might take up to 1min.\n",
            "This is a work in progress: if you encounter a bug, please open an issue.\u001b[0m\n"
          ]
        },
        {
          "name": "stderr",
          "output_type": "stream",
          "text": [
            "/home/teron/miniconda3/lib/python3.12/site-packages/stable_baselines3/common/evaluation.py:67: UserWarning: Evaluation environment is not wrapped with a ``Monitor`` wrapper. This may result in reporting modified episode lengths and rewards, if other wrappers happen to modify these. Consider wrapping environment first with ``Monitor`` wrapper.\n",
            "  warnings.warn(\n"
          ]
        },
        {
          "name": "stdout",
          "output_type": "stream",
          "text": [
            "Saving video to /tmp/tmpm934dhmh/-step-0-to-step-1000.mp4\n",
            "MoviePy - Building video /tmp/tmpm934dhmh/-step-0-to-step-1000.mp4.\n",
            "MoviePy - Writing video /tmp/tmpm934dhmh/-step-0-to-step-1000.mp4\n",
            "\n"
          ]
        },
        {
          "name": "stderr",
          "output_type": "stream",
          "text": [
            "ffmpeg version 4.4.2-0ubuntu0.22.04.1 Copyright (c) 2000-2021 the FFmpeg developers\n",
            "  built with gcc 11 (Ubuntu 11.2.0-19ubuntu1)\n",
            "  configuration: --prefix=/usr --extra-version=0ubuntu0.22.04.1 --toolchain=hardened --libdir=/usr/lib/x86_64-linux-gnu --incdir=/usr/include/x86_64-linux-gnu --arch=amd64 --enable-gpl --disable-stripping --enable-gnutls --enable-ladspa --enable-libaom --enable-libass --enable-libbluray --enable-libbs2b --enable-libcaca --enable-libcdio --enable-libcodec2 --enable-libdav1d --enable-libflite --enable-libfontconfig --enable-libfreetype --enable-libfribidi --enable-libgme --enable-libgsm --enable-libjack --enable-libmp3lame --enable-libmysofa --enable-libopenjpeg --enable-libopenmpt --enable-libopus --enable-libpulse --enable-librabbitmq --enable-librubberband --enable-libshine --enable-libsnappy --enable-libsoxr --enable-libspeex --enable-libsrt --enable-libssh --enable-libtheora --enable-libtwolame --enable-libvidstab --enable-libvorbis --enable-libvpx --enable-libwebp --enable-libx265 --enable-libxml2 --enable-libxvid --enable-libzimg --enable-libzmq --enable-libzvbi --enable-lv2 --enable-omx --enable-openal --enable-opencl --enable-opengl --enable-sdl2 --enable-pocketsphinx --enable-librsvg --enable-libmfx --enable-libdc1394 --enable-libdrm --enable-libiec61883 --enable-chromaprint --enable-frei0r --enable-libx264 --enable-shared\n",
            "  libavutil      56. 70.100 / 56. 70.100\n",
            "  libavcodec     58.134.100 / 58.134.100\n",
            "  libavformat    58. 76.100 / 58. 76.100\n",
            "  libavdevice    58. 13.100 / 58. 13.100\n",
            "  libavfilter     7.110.100 /  7.110.100\n",
            "  libswscale      5.  9.100 /  5.  9.100\n",
            "  libswresample   3.  9.100 /  3.  9.100\n",
            "  libpostproc    55.  9.100 / 55.  9.100\n",
            "Input #0, mov,mp4,m4a,3gp,3g2,mj2, from '/tmp/tmpm934dhmh/-step-0-to-step-1000.mp4':\n",
            "  Metadata:\n",
            "    major_brand     : isom\n",
            "    minor_version   : 512\n",
            "    compatible_brands: isomiso2avc1mp41\n",
            "    encoder         : Lavf61.1.100\n",
            "  Duration: 00:00:20.02, start: 0.000000, bitrate: 70 kb/s\n",
            "  Stream #0:0(und): Video: h264 (High) (avc1 / 0x31637661), yuv420p, 600x400, 65 kb/s, 50 fps, 50 tbr, 12800 tbn, 100 tbc (default)\n",
            "    Metadata:\n",
            "      handler_name    : VideoHandler\n",
            "      vendor_id       : [0][0][0][0]\n",
            "      encoder         : Lavc61.3.100 libx264\n",
            "Stream mapping:\n",
            "  Stream #0:0 -> #0:0 (h264 (native) -> h264 (libx264))\n",
            "Press [q] to stop, [?] for help\n",
            "[libx264 @ 0x55bee4a092c0] using cpu capabilities: MMX2 SSE2Fast SSSE3 SSE4.2 AVX FMA3 BMI2 AVX2 AVX512\n",
            "[libx264 @ 0x55bee4a092c0] profile High, level 3.1, 4:2:0, 8-bit\n",
            "[libx264 @ 0x55bee4a092c0] 264 - core 163 r3060 5db6aa6 - H.264/MPEG-4 AVC codec - Copyleft 2003-2021 - http://www.videolan.org/x264.html - options: cabac=1 ref=3 deblock=1:0:0 analyse=0x3:0x113 me=hex subme=7 psy=1 psy_rd=1.00:0.00 mixed_ref=1 me_range=16 chroma_me=1 trellis=1 8x8dct=1 cqm=0 deadzone=21,11 fast_pskip=1 chroma_qp_offset=-2 threads=12 lookahead_threads=2 sliced_threads=0 nr=0 decimate=1 interlaced=0 bluray_compat=0 constrained_intra=0 bframes=3 b_pyramid=2 b_adapt=1 b_bias=0 direct=1 weightb=1 open_gop=0 weightp=2 keyint=250 keyint_min=25 scenecut=40 intra_refresh=0 rc_lookahead=40 rc=crf mbtree=1 crf=23.0 qcomp=0.60 qpmin=0 qpmax=69 qpstep=4 ip_ratio=1.40 aq=1:1.00\n",
            "Output #0, mp4, to '/tmp/tmpu5mmbwrd/replay.mp4':\n",
            "  Metadata:\n",
            "    major_brand     : isom\n",
            "    minor_version   : 512\n",
            "    compatible_brands: isomiso2avc1mp41\n",
            "    encoder         : Lavf58.76.100\n",
            "  Stream #0:0(und): Video: h264 (avc1 / 0x31637661), yuv420p(progressive), 600x400, q=2-31, 50 fps, 12800 tbn (default)\n",
            "    Metadata:\n",
            "      handler_name    : VideoHandler\n",
            "      vendor_id       : [0][0][0][0]\n",
            "      encoder         : Lavc58.134.100 libx264\n",
            "    Side data:\n",
            "      cpb: bitrate max/min/avg: 0/0/0 buffer size: 0 vbv_delay: N/A\n",
            "frame=    1 fps=0.0 q=0.0 size=       0kB time=00:00:00.00 bitrate=N/A speed=   0x    \r"
          ]
        },
        {
          "name": "stdout",
          "output_type": "stream",
          "text": [
            "MoviePy - Done !\n",
            "MoviePy - video ready /tmp/tmpm934dhmh/-step-0-to-step-1000.mp4\n"
          ]
        },
        {
          "name": "stderr",
          "output_type": "stream",
          "text": [
            "frame= 1001 fps=614 q=-1.0 Lsize=     164kB time=00:00:19.96 bitrate=  67.5kbits/s speed=12.2x    \n",
            "video:152kB audio:0kB subtitle:0kB other streams:0kB global headers:0kB muxing overhead: 8.212908%\n",
            "[libx264 @ 0x55bee4a092c0] frame I:5     Avg QP: 9.06  size:  2217\n",
            "[libx264 @ 0x55bee4a092c0] frame P:264   Avg QP:21.57  size:   221\n",
            "[libx264 @ 0x55bee4a092c0] frame B:732   Avg QP:23.84  size:   117\n",
            "[libx264 @ 0x55bee4a092c0] consecutive B-frames:  1.0%  3.2%  3.9% 91.9%\n",
            "[libx264 @ 0x55bee4a092c0] mb I  I16..4: 83.1% 10.5%  6.5%\n",
            "[libx264 @ 0x55bee4a092c0] mb P  I16..4:  0.2%  0.4%  0.1%  P16..4:  1.8%  0.5%  0.2%  0.0%  0.0%    skip:96.8%\n",
            "[libx264 @ 0x55bee4a092c0] mb B  I16..4:  0.0%  0.0%  0.0%  B16..8:  2.3%  0.3%  0.0%  direct: 0.1%  skip:97.1%  L0:53.9% L1:45.1% BI: 1.0%\n",
            "[libx264 @ 0x55bee4a092c0] 8x8 transform intra:23.2% inter:17.3%\n",
            "[libx264 @ 0x55bee4a092c0] coded y,uvDC,uvAC intra: 6.9% 10.0% 9.0% inter: 0.2% 0.3% 0.2%\n",
            "[libx264 @ 0x55bee4a092c0] i16 v,h,dc,p: 85% 10%  5%  0%\n",
            "[libx264 @ 0x55bee4a092c0] i8 v,h,dc,ddl,ddr,vr,hd,vl,hu: 18%  5% 76%  0%  0%  0%  0%  0%  0%\n",
            "[libx264 @ 0x55bee4a092c0] i4 v,h,dc,ddl,ddr,vr,hd,vl,hu: 14% 17% 56%  2%  2%  1%  3%  1%  3%\n",
            "[libx264 @ 0x55bee4a092c0] i8c dc,h,v,p: 92%  5%  3%  0%\n",
            "[libx264 @ 0x55bee4a092c0] Weighted P-Frames: Y:0.0% UV:0.0%\n",
            "[libx264 @ 0x55bee4a092c0] ref P L0: 69.1%  2.1% 20.2%  8.6%\n",
            "[libx264 @ 0x55bee4a092c0] ref B L0: 68.4% 27.3%  4.4%\n",
            "[libx264 @ 0x55bee4a092c0] ref B L1: 91.8%  8.2%\n",
            "[libx264 @ 0x55bee4a092c0] kb/s:61.89\n"
          ]
        },
        {
          "name": "stdout",
          "output_type": "stream",
          "text": [
            "\u001b[38;5;4mℹ Pushing repo OrcinusOrca/ppo-LunarLander-v2 to the Hugging Face\n",
            "Hub\u001b[0m\n"
          ]
        },
        {
          "data": {
            "application/vnd.jupyter.widget-view+json": {
              "model_id": "129289f0ef25408fb90a6e597680f154",
              "version_major": 2,
              "version_minor": 0
            },
            "text/plain": [
              "policy.pth:   0%|          | 0.00/43.8k [00:00<?, ?B/s]"
            ]
          },
          "metadata": {},
          "output_type": "display_data"
        },
        {
          "data": {
            "application/vnd.jupyter.widget-view+json": {
              "model_id": "d9dd88b1e8e749348b30482dc5534521",
              "version_major": 2,
              "version_minor": 0
            },
            "text/plain": [
              "policy.optimizer.pth:   0%|          | 0.00/88.5k [00:00<?, ?B/s]"
            ]
          },
          "metadata": {},
          "output_type": "display_data"
        },
        {
          "data": {
            "application/vnd.jupyter.widget-view+json": {
              "model_id": "e8c02e296c744db3bf2f8897e23461d5",
              "version_major": 2,
              "version_minor": 0
            },
            "text/plain": [
              "replay.mp4:   0%|          | 0.00/168k [00:00<?, ?B/s]"
            ]
          },
          "metadata": {},
          "output_type": "display_data"
        },
        {
          "data": {
            "application/vnd.jupyter.widget-view+json": {
              "model_id": "c392f848af804be8a82d3eb842903ab9",
              "version_major": 2,
              "version_minor": 0
            },
            "text/plain": [
              "ppo-LunarLander-v2.zip:   0%|          | 0.00/150k [00:00<?, ?B/s]"
            ]
          },
          "metadata": {},
          "output_type": "display_data"
        },
        {
          "data": {
            "application/vnd.jupyter.widget-view+json": {
              "model_id": "4700cdd27a84422e88114afd60e2d306",
              "version_major": 2,
              "version_minor": 0
            },
            "text/plain": [
              "Upload 4 LFS files:   0%|          | 0/4 [00:00<?, ?it/s]"
            ]
          },
          "metadata": {},
          "output_type": "display_data"
        },
        {
          "name": "stdout",
          "output_type": "stream",
          "text": [
            "\u001b[38;5;4mℹ Your model is pushed to the Hub. You can view your model here:\n",
            "https://huggingface.co/OrcinusOrca/ppo-LunarLander-v2/tree/main/\u001b[0m\n"
          ]
        },
        {
          "data": {
            "text/plain": [
              "CommitInfo(commit_url='https://huggingface.co/OrcinusOrca/ppo-LunarLander-v2/commit/e2b03ece7a8cbb13fc836ce813cdab02101d993a', commit_message='Upload PPO LunarLander-v2 trained agent', commit_description='', oid='e2b03ece7a8cbb13fc836ce813cdab02101d993a', pr_url=None, repo_url=RepoUrl('https://huggingface.co/OrcinusOrca/ppo-LunarLander-v2', endpoint='https://huggingface.co', repo_type='model', repo_id='OrcinusOrca/ppo-LunarLander-v2'), pr_revision=None, pr_num=None)"
            ]
          },
          "execution_count": 13,
          "metadata": {},
          "output_type": "execute_result"
        }
      ],
      "source": [
        "import gymnasium as gym\n",
        "\n",
        "from stable_baselines3 import PPO\n",
        "from stable_baselines3.common.vec_env import DummyVecEnv\n",
        "from stable_baselines3.common.env_util import make_vec_env\n",
        "\n",
        "from huggingface_sb3 import package_to_hub\n",
        "\n",
        "model = PPO.load(\"ppo-LunarLander-v2\")\n",
        "model_name = \"ppo-LunarLander-v2\"\n",
        "\n",
        "# PLACE the variables you've just defined two cells above\n",
        "# Define the name of the environment\n",
        "env_id = \"LunarLander-v2\"\n",
        "\n",
        "# TODO: Define the model architecture we used\n",
        "model_architecture = \"PPO\"\n",
        "\n",
        "## Define a repo_id\n",
        "## repo_id is the id of the model repository from the Hugging Face Hub (repo_id = {organization}/{repo_name} for instance ThomasSimonini/ppo-LunarLander-v2\n",
        "## CHANGE WITH YOUR REPO ID\n",
        "repo_id = \"OrcinusOrca/ppo-LunarLander-v2\"  # Change with your repo id, you can't push with mine 😄\n",
        "\n",
        "## Define the commit message\n",
        "commit_message = \"Upload PPO LunarLander-v2 trained agent\"\n",
        "\n",
        "# Create the evaluation env and set the render_mode=\"rgb_array\"\n",
        "eval_env = DummyVecEnv([lambda: gym.make(env_id, render_mode=\"rgb_array\")])\n",
        "\n",
        "# PLACE the package_to_hub function you've just filled here\n",
        "package_to_hub(model=model, model_name=model_name, model_architecture=model_architecture, env_id=env_id, eval_env=eval_env, repo_id=repo_id, commit_message=commit_message)  # Our trained model  # The name of our trained model  # The model architecture we used: in our case PPO  # Name of the environment  # Evaluation Environment  # id of the model repository from the Hugging Face Hub (repo_id = {organization}/{repo_name} for instance ThomasSimonini/ppo-LunarLander-v2"
      ]
    },
    {
      "cell_type": "markdown",
      "metadata": {
        "id": "T79AEAWEFIxz"
      },
      "source": [
        "Congrats 🥳 you've just trained and uploaded your first Deep Reinforcement Learning agent. The script above should have displayed a link to a model repository such as https://huggingface.co/osanseviero/test_sb3. When you go to this link, you can:\n",
        "\n",
        "- See a video preview of your agent at the right.\n",
        "- Click \"Files and versions\" to see all the files in the repository.\n",
        "- Click \"Use in stable-baselines3\" to get a code snippet that shows how to load the model.\n",
        "- A model card (`README.md` file) which gives a description of the model\n",
        "\n",
        "Under the hood, the Hub uses git-based repositories (don't worry if you don't know what git is), which means you can update the model with new versions as you experiment and improve your agent.\n",
        "\n",
        "Compare the results of your LunarLander-v2 with your classmates using the leaderboard 🏆 👉 https://huggingface.co/spaces/huggingface-projects/Deep-Reinforcement-Learning-Leaderboard\n"
      ]
    },
    {
      "cell_type": "markdown",
      "metadata": {
        "id": "9nWnuQHRfFRa"
      },
      "source": [
        "## Load a saved LunarLander model from the Hub 🤗\n",
        "\n",
        "Thanks to [ironbar](https://github.com/ironbar) for the contribution.\n",
        "\n",
        "Loading a saved model from the Hub is really easy.\n",
        "\n",
        "You go to https://huggingface.co/models?library=stable-baselines3 to see the list of all the Stable-baselines3 saved models.\n",
        "\n",
        "1. You select one and copy its repo_id\n",
        "\n",
        "<img src=\"https://huggingface.co/datasets/huggingface-deep-rl-course/course-images/resolve/main/en/notebooks/unit1/copy-id.png\" alt=\"Copy-id\"/>\n"
      ]
    },
    {
      "cell_type": "markdown",
      "metadata": {
        "id": "hNPLJF2bfiUw"
      },
      "source": [
        "2. Then we just need to use load_from_hub with:\n",
        "\n",
        "- The repo_id\n",
        "- The filename: the saved model inside the repo and its extension (\\*.zip)\n"
      ]
    },
    {
      "cell_type": "markdown",
      "metadata": {
        "id": "bhb9-NtsinKB"
      },
      "source": [
        "Because the model I download from the Hub was trained with Gym (the former version of Gymnasium) we need to install shimmy a API conversion tool that will help us to run the environment correctly.\n",
        "\n",
        "Shimmy Documentation: https://github.com/Farama-Foundation/Shimmy\n"
      ]
    },
    {
      "cell_type": "code",
      "execution_count": null,
      "metadata": {
        "id": "03WI-bkci1kH"
      },
      "outputs": [],
      "source": [
        "!pip install shimmy"
      ]
    },
    {
      "cell_type": "code",
      "execution_count": null,
      "metadata": {
        "id": "oj8PSGHJfwz3"
      },
      "outputs": [],
      "source": [
        "from huggingface_sb3 import load_from_hub\n",
        "\n",
        "repo_id = \"Classroom-workshop/assignment2-omar\"  # The repo_id\n",
        "filename = \"ppo-LunarLander-v2.zip\"  # The model filename.zip\n",
        "\n",
        "# When the model was trained on Python 3.8 the pickle protocol is 5\n",
        "# But Python 3.6, 3.7 use protocol 4\n",
        "# In order to get compatibility we need to:\n",
        "# 1. Install pickle5 (we done it at the beginning of the colab)\n",
        "# 2. Create a custom empty object we pass as parameter to PPO.load()\n",
        "custom_objects = {\n",
        "    \"learning_rate\": 0.0,\n",
        "    \"lr_schedule\": lambda _: 0.0,\n",
        "    \"clip_range\": lambda _: 0.0,\n",
        "}\n",
        "\n",
        "checkpoint = load_from_hub(repo_id, filename)\n",
        "model = PPO.load(checkpoint, custom_objects=custom_objects, print_system_info=True)"
      ]
    },
    {
      "cell_type": "markdown",
      "metadata": {
        "id": "Fs0Y-qgPgLUf"
      },
      "source": [
        "Let's evaluate this agent:\n"
      ]
    },
    {
      "cell_type": "code",
      "execution_count": null,
      "metadata": {
        "id": "PAEVwK-aahfx"
      },
      "outputs": [],
      "source": [
        "# @title\n",
        "eval_env = Monitor(gym.make(\"LunarLander-v2\"))\n",
        "mean_reward, std_reward = evaluate_policy(model, eval_env, n_eval_episodes=10, deterministic=True)\n",
        "print(f\"mean_reward={mean_reward:.2f} +/- {std_reward}\")"
      ]
    },
    {
      "cell_type": "markdown",
      "metadata": {
        "id": "BQAwLnYFPk-s"
      },
      "source": [
        "## Some additional challenges 🏆\n",
        "\n",
        "The best way to learn **is to try things by your own**! As you saw, the current agent is not doing great. As a first suggestion, you can train for more steps. With 1,000,000 steps, we saw some great results!\n",
        "\n",
        "In the [Leaderboard](https://huggingface.co/spaces/huggingface-projects/Deep-Reinforcement-Learning-Leaderboard) you will find your agents. Can you get to the top?\n",
        "\n",
        "Here are some ideas to achieve so:\n",
        "\n",
        "- Train more steps\n",
        "- Try different hyperparameters for `PPO`. You can see them at https://stable-baselines3.readthedocs.io/en/master/modules/ppo.html#parameters.\n",
        "- Check the [Stable-Baselines3 documentation](https://stable-baselines3.readthedocs.io/en/master/modules/dqn.html) and try another model such as DQN.\n",
        "- **Push your new trained model** on the Hub 🔥\n",
        "\n",
        "**Compare the results of your LunarLander-v2 with your classmates** using the [leaderboard](https://huggingface.co/spaces/huggingface-projects/Deep-Reinforcement-Learning-Leaderboard) 🏆\n",
        "\n",
        "Is moon landing too boring for you? Try to **change the environment**, why not use MountainCar-v0, CartPole-v1 or CarRacing-v0? Check how they work [using the gym documentation](https://www.gymlibrary.dev/) and have fun 🎉.\n"
      ]
    },
    {
      "cell_type": "markdown",
      "metadata": {
        "id": "9lM95-dvmif8"
      },
      "source": [
        "---\n",
        "\n",
        "Congrats on finishing this chapter! That was the biggest one, **and there was a lot of information.**\n",
        "\n",
        "If you’re still feel confused with all these elements...it's totally normal! **This was the same for me and for all people who studied RL.**\n",
        "\n",
        "Take time to really **grasp the material before continuing and try the additional challenges**. It’s important to master these elements and have a solid foundations.\n",
        "\n",
        "Naturally, during the course, we’re going to dive deeper into these concepts but **it’s better to have a good understanding of them now before diving into the next chapters.**\n"
      ]
    },
    {
      "cell_type": "markdown",
      "metadata": {
        "id": "BjLhT70TEZIn"
      },
      "source": [
        "Next time, in the bonus unit 1, you'll train Huggy the Dog to fetch the stick.\n",
        "\n",
        "<img src=\"https://huggingface.co/datasets/huggingface-deep-rl-course/course-images/resolve/main/en/notebooks/unit1/huggy.jpg\" alt=\"Huggy\"/>\n",
        "\n",
        "## Keep learning, stay awesome 🤗\n"
      ]
    }
  ],
  "metadata": {
    "accelerator": "GPU",
    "colab": {
      "collapsed_sections": [
        "QAN7B0_HCVZC",
        "BqPKw3jt_pG5"
      ],
      "include_colab_link": true,
      "private_outputs": true,
      "provenance": []
    },
    "gpuClass": "standard",
    "kernelspec": {
      "display_name": "base",
      "language": "python",
      "name": "python3"
    },
    "language_info": {
      "codemirror_mode": {
        "name": "ipython",
        "version": 3
      },
      "file_extension": ".py",
      "mimetype": "text/x-python",
      "name": "python",
      "nbconvert_exporter": "python",
      "pygments_lexer": "ipython3",
      "version": "3.12.2"
    }
  },
  "nbformat": 4,
  "nbformat_minor": 0
}
